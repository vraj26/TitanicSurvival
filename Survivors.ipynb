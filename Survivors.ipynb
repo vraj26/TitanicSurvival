{
 "cells": [
  {
   "cell_type": "code",
   "execution_count": 6,
   "metadata": {},
   "outputs": [],
   "source": [
    "#import libraries\n",
    "import pandas as pd\n",
    "import numpy as np\n",
    "import matplotlib\n",
    "import matplotlib.pyplot as plt\n",
    "from pandas.plotting import scatter_matrix\n",
    "%matplotlib inline\n",
    "\n",
    "import seaborn as sns\n",
    "#set the style of the plot\n",
    "sns.set(style = \"white\", color_codes = True)\n",
    "sns.set(font_scale = 1.5)\n",
    "\n",
    "from sklearn.linear_model import LogisticRegression\n",
    "from sklearn.model_selection import train_test_split\n",
    "from sklearn.metrics import confusion_matrix\n",
    "from sklearn.metrics import classification_report\n",
    "from sklearn.metrics import accuracy_score\n",
    "from sklearn.metrics import precision_score\n",
    "from sklearn.metrics import recall_score\n",
    "from sklearn.metrics import f1_score\n",
    "from sklearn import metrics"
   ]
  },
  {
   "cell_type": "code",
   "execution_count": 9,
   "id": "a83eeb85",
   "metadata": {},
   "outputs": [
    {
     "data": {
      "text/plain": [
       "(891, 12)"
      ]
     },
     "execution_count": 9,
     "metadata": {},
     "output_type": "execute_result"
    }
   ],
   "source": [
    "#read dataset\n",
    "df_train = pd.read_csv(\"train.csv\")\n",
    "df_train.shape"
   ]
  },
  {
   "cell_type": "code",
   "execution_count": 10,
   "id": "eecf784d",
   "metadata": {},
   "outputs": [
    {
     "data": {
      "text/plain": [
       "Survived\n",
       "0    549\n",
       "1    342\n",
       "Name: count, dtype: int64"
      ]
     },
     "execution_count": 10,
     "metadata": {},
     "output_type": "execute_result"
    }
   ],
   "source": [
    "#printin how many passengers survived \n",
    "df_train.Survived.value_counts()\n"
   ]
  },
  {
   "cell_type": "code",
   "execution_count": 11,
   "id": "9361e889",
   "metadata": {},
   "outputs": [
    {
     "data": {
      "text/plain": [
       "Sex\n",
       "male      577\n",
       "female    314\n",
       "Name: count, dtype: int64"
      ]
     },
     "execution_count": 11,
     "metadata": {},
     "output_type": "execute_result"
    }
   ],
   "source": [
    "#the sex of the passengers\n",
    "df_train.Sex.value_counts()"
   ]
  },
  {
   "cell_type": "code",
   "execution_count": 12,
   "id": "773dd0f3",
   "metadata": {},
   "outputs": [
    {
     "data": {
      "text/plain": [
       "Embarked\n",
       "S    644\n",
       "C    168\n",
       "Q     77\n",
       "Name: count, dtype: int64"
      ]
     },
     "execution_count": 12,
     "metadata": {},
     "output_type": "execute_result"
    }
   ],
   "source": [
    "#prints how many passengers docked from each location onto the ship\n",
    "df_train.Embarked.value_counts()"
   ]
  },
  {
   "cell_type": "code",
   "execution_count": 13,
   "id": "a8f81eab",
   "metadata": {},
   "outputs": [
    {
     "data": {
      "text/plain": [
       "PassengerId      0\n",
       "Survived         0\n",
       "Pclass           0\n",
       "Name             0\n",
       "Sex              0\n",
       "Age            177\n",
       "SibSp            0\n",
       "Parch            0\n",
       "Ticket           0\n",
       "Fare             0\n",
       "Cabin          687\n",
       "Embarked         2\n",
       "dtype: int64"
      ]
     },
     "execution_count": 13,
     "metadata": {},
     "output_type": "execute_result"
    }
   ],
   "source": [
    "#check for any missing values since they reduce performance metrics\n",
    "df_train.isnull().sum()"
   ]
  },
  {
   "cell_type": "code",
   "execution_count": 15,
   "id": "6db6a811",
   "metadata": {},
   "outputs": [
    {
     "data": {
      "text/plain": [
       "(891, 12)"
      ]
     },
     "execution_count": 15,
     "metadata": {},
     "output_type": "execute_result"
    }
   ],
   "source": [
    "#Output shows that a large amount of missing values is to the Cabin variable so we will drop this later on\n",
    "df_train.shape"
   ]
  },
  {
   "cell_type": "code",
   "execution_count": 17,
   "id": "681c078b",
   "metadata": {},
   "outputs": [
    {
     "data": {
      "text/html": [
       "<div>\n",
       "<style scoped>\n",
       "    .dataframe tbody tr th:only-of-type {\n",
       "        vertical-align: middle;\n",
       "    }\n",
       "\n",
       "    .dataframe tbody tr th {\n",
       "        vertical-align: top;\n",
       "    }\n",
       "\n",
       "    .dataframe thead th {\n",
       "        text-align: right;\n",
       "    }\n",
       "</style>\n",
       "<table border=\"1\" class=\"dataframe\">\n",
       "  <thead>\n",
       "    <tr style=\"text-align: right;\">\n",
       "      <th></th>\n",
       "      <th>Survived</th>\n",
       "      <th>Pclass</th>\n",
       "      <th>Sex</th>\n",
       "      <th>Age</th>\n",
       "      <th>SibSp</th>\n",
       "      <th>Parch</th>\n",
       "      <th>Fare</th>\n",
       "      <th>Embarked</th>\n",
       "    </tr>\n",
       "  </thead>\n",
       "  <tbody>\n",
       "    <tr>\n",
       "      <th>0</th>\n",
       "      <td>0</td>\n",
       "      <td>3</td>\n",
       "      <td>male</td>\n",
       "      <td>22.0</td>\n",
       "      <td>1</td>\n",
       "      <td>0</td>\n",
       "      <td>7.2500</td>\n",
       "      <td>S</td>\n",
       "    </tr>\n",
       "    <tr>\n",
       "      <th>1</th>\n",
       "      <td>1</td>\n",
       "      <td>1</td>\n",
       "      <td>female</td>\n",
       "      <td>38.0</td>\n",
       "      <td>1</td>\n",
       "      <td>0</td>\n",
       "      <td>71.2833</td>\n",
       "      <td>C</td>\n",
       "    </tr>\n",
       "    <tr>\n",
       "      <th>2</th>\n",
       "      <td>1</td>\n",
       "      <td>3</td>\n",
       "      <td>female</td>\n",
       "      <td>26.0</td>\n",
       "      <td>0</td>\n",
       "      <td>0</td>\n",
       "      <td>7.9250</td>\n",
       "      <td>S</td>\n",
       "    </tr>\n",
       "    <tr>\n",
       "      <th>3</th>\n",
       "      <td>1</td>\n",
       "      <td>1</td>\n",
       "      <td>female</td>\n",
       "      <td>35.0</td>\n",
       "      <td>1</td>\n",
       "      <td>0</td>\n",
       "      <td>53.1000</td>\n",
       "      <td>S</td>\n",
       "    </tr>\n",
       "    <tr>\n",
       "      <th>4</th>\n",
       "      <td>0</td>\n",
       "      <td>3</td>\n",
       "      <td>male</td>\n",
       "      <td>35.0</td>\n",
       "      <td>0</td>\n",
       "      <td>0</td>\n",
       "      <td>8.0500</td>\n",
       "      <td>S</td>\n",
       "    </tr>\n",
       "  </tbody>\n",
       "</table>\n",
       "</div>"
      ],
      "text/plain": [
       "   Survived  Pclass     Sex   Age  SibSp  Parch     Fare Embarked\n",
       "0         0       3    male  22.0      1      0   7.2500        S\n",
       "1         1       1  female  38.0      1      0  71.2833        C\n",
       "2         1       3  female  26.0      0      0   7.9250        S\n",
       "3         1       1  female  35.0      1      0  53.1000        S\n",
       "4         0       3    male  35.0      0      0   8.0500        S"
      ]
     },
     "execution_count": 17,
     "metadata": {},
     "output_type": "execute_result"
    }
   ],
   "source": [
    "#name, ticket #, and passegner id are irrevalent to survivability\n",
    "#Because of this we can drop all of these as well as Cabin\n",
    "\n",
    "df_train = df_train.drop(['PassengerId', 'Name', 'Ticket', 'Cabin'], axis = 1)\n",
    "df_train.head()"
   ]
  },
  {
   "cell_type": "code",
   "execution_count": 27,
   "id": "78be32ee",
   "metadata": {},
   "outputs": [],
   "source": [
    "#dealing with missing values in the age variable\n",
    "#finds each null value in age variable\n",
    "\n",
    "def age_approx(cols):\n",
    "    Age = cols[0]\n",
    "    Pclass = cols[1]\n",
    "    if pd.isnull(Age):\n",
    "        if Pclass == 1:\n",
    "            return 37\n",
    "        elif Pclass == 2:\n",
    "            return 29\n",
    "        else:\n",
    "            return 24\n",
    "    else:\n",
    "        return Age\n"
   ]
  },
  {
   "cell_type": "code",
   "execution_count": 28,
   "id": "a1520c65",
   "metadata": {},
   "outputs": [
    {
     "data": {
      "text/html": [
       "<div>\n",
       "<style scoped>\n",
       "    .dataframe tbody tr th:only-of-type {\n",
       "        vertical-align: middle;\n",
       "    }\n",
       "\n",
       "    .dataframe tbody tr th {\n",
       "        vertical-align: top;\n",
       "    }\n",
       "\n",
       "    .dataframe thead th {\n",
       "        text-align: right;\n",
       "    }\n",
       "</style>\n",
       "<table border=\"1\" class=\"dataframe\">\n",
       "  <thead>\n",
       "    <tr style=\"text-align: right;\">\n",
       "      <th></th>\n",
       "      <th>Survived</th>\n",
       "      <th>Age</th>\n",
       "      <th>SibSp</th>\n",
       "      <th>Parch</th>\n",
       "      <th>Fare</th>\n",
       "    </tr>\n",
       "    <tr>\n",
       "      <th>Pclass</th>\n",
       "      <th></th>\n",
       "      <th></th>\n",
       "      <th></th>\n",
       "      <th></th>\n",
       "      <th></th>\n",
       "    </tr>\n",
       "  </thead>\n",
       "  <tbody>\n",
       "    <tr>\n",
       "      <th>1</th>\n",
       "      <td>0.629630</td>\n",
       "      <td>38.233441</td>\n",
       "      <td>0.416667</td>\n",
       "      <td>0.356481</td>\n",
       "      <td>84.154687</td>\n",
       "    </tr>\n",
       "    <tr>\n",
       "      <th>2</th>\n",
       "      <td>0.472826</td>\n",
       "      <td>29.877630</td>\n",
       "      <td>0.402174</td>\n",
       "      <td>0.380435</td>\n",
       "      <td>20.662183</td>\n",
       "    </tr>\n",
       "    <tr>\n",
       "      <th>3</th>\n",
       "      <td>0.242363</td>\n",
       "      <td>25.140620</td>\n",
       "      <td>0.615071</td>\n",
       "      <td>0.393075</td>\n",
       "      <td>13.675550</td>\n",
       "    </tr>\n",
       "  </tbody>\n",
       "</table>\n",
       "</div>"
      ],
      "text/plain": [
       "        Survived        Age     SibSp     Parch       Fare\n",
       "Pclass                                                    \n",
       "1       0.629630  38.233441  0.416667  0.356481  84.154687\n",
       "2       0.472826  29.877630  0.402174  0.380435  20.662183\n",
       "3       0.242363  25.140620  0.615071  0.393075  13.675550"
      ]
     },
     "execution_count": 28,
     "metadata": {},
     "output_type": "execute_result"
    }
   ],
   "source": [
    "#all numeric columns within the set\n",
    "numeric_columns = ['Survived', 'Age', 'SibSp', 'Parch', 'Fare']\n",
    "\n",
    "# Compute the mean for the selected numeric columns, grouped by 'Pclass'\n",
    "df_train.groupby('Pclass')[numeric_columns].mean()\n",
    "\n",
    "\n"
   ]
  },
  {
   "cell_type": "code",
   "execution_count": 29,
   "id": "9e2e1cef",
   "metadata": {},
   "outputs": [],
   "source": [
    "#check value of passenger class for each null value and assign age value according to avg age of passengers to that class\n",
    "#this will replace all null values in the dataframe which belong to Age\n",
    "df_train['Age'] = df_train[['Age', 'Pclass']].apply(age_approx, axis = 1)"
   ]
  },
  {
   "cell_type": "code",
   "execution_count": 30,
   "id": "d60adb21",
   "metadata": {},
   "outputs": [
    {
     "data": {
      "text/plain": [
       "Survived    0\n",
       "Pclass      0\n",
       "Sex         0\n",
       "Age         0\n",
       "SibSp       0\n",
       "Parch       0\n",
       "Fare        0\n",
       "Embarked    2\n",
       "dtype: int64"
      ]
     },
     "execution_count": 30,
     "metadata": {},
     "output_type": "execute_result"
    }
   ],
   "source": [
    "#check null values again\n",
    "df_train.isnull().sum()"
   ]
  },
  {
   "cell_type": "code",
   "execution_count": 31,
   "id": "5ed56866",
   "metadata": {},
   "outputs": [
    {
     "data": {
      "text/plain": [
       "Survived    0\n",
       "Pclass      0\n",
       "Sex         0\n",
       "Age         0\n",
       "SibSp       0\n",
       "Parch       0\n",
       "Fare        0\n",
       "Embarked    0\n",
       "dtype: int64"
      ]
     },
     "execution_count": 31,
     "metadata": {},
     "output_type": "execute_result"
    }
   ],
   "source": [
    "#the 2 null values of Embarked can be now dropped\n",
    "df_train.dropna(inplace=True)\n",
    "df_train.isnull().sum()"
   ]
  },
  {
   "cell_type": "code",
   "execution_count": 32,
   "id": "81fad3c7",
   "metadata": {},
   "outputs": [
    {
     "data": {
      "text/plain": [
       "Survived      int64\n",
       "Pclass        int64\n",
       "Sex          object\n",
       "Age         float64\n",
       "SibSp         int64\n",
       "Parch         int64\n",
       "Fare        float64\n",
       "Embarked     object\n",
       "dtype: object"
      ]
     },
     "execution_count": 32,
     "metadata": {},
     "output_type": "execute_result"
    }
   ],
   "source": [
    "#checking data type of columns to get cateogrical data type\n",
    "df_train.dtypes"
   ]
  },
  {
   "cell_type": "code",
   "execution_count": 33,
   "id": "b93995b7",
   "metadata": {},
   "outputs": [],
   "source": [
    "#output shows that sex and embark are categorical\n",
    "#convertying them into dummy/indicator variables\n",
    "df_train_dummied = pd.get_dummies(df_train, columns = [\"Sex\"])"
   ]
  },
  {
   "cell_type": "code",
   "execution_count": 35,
   "id": "88fcf9b0",
   "metadata": {},
   "outputs": [],
   "source": [
    "df_train_dummied = pd.get_dummies(df_train_dummied, columns = [\"Embarked\"])"
   ]
  },
  {
   "cell_type": "code",
   "execution_count": 37,
   "id": "d228539a",
   "metadata": {},
   "outputs": [
    {
     "data": {
      "text/html": [
       "<div>\n",
       "<style scoped>\n",
       "    .dataframe tbody tr th:only-of-type {\n",
       "        vertical-align: middle;\n",
       "    }\n",
       "\n",
       "    .dataframe tbody tr th {\n",
       "        vertical-align: top;\n",
       "    }\n",
       "\n",
       "    .dataframe thead th {\n",
       "        text-align: right;\n",
       "    }\n",
       "</style>\n",
       "<table border=\"1\" class=\"dataframe\">\n",
       "  <thead>\n",
       "    <tr style=\"text-align: right;\">\n",
       "      <th></th>\n",
       "      <th>Survived</th>\n",
       "      <th>Pclass</th>\n",
       "      <th>Age</th>\n",
       "      <th>SibSp</th>\n",
       "      <th>Parch</th>\n",
       "      <th>Fare</th>\n",
       "      <th>Sex_female</th>\n",
       "      <th>Sex_male</th>\n",
       "      <th>Embarked_C</th>\n",
       "      <th>Embarked_Q</th>\n",
       "      <th>Embarked_S</th>\n",
       "    </tr>\n",
       "  </thead>\n",
       "  <tbody>\n",
       "    <tr>\n",
       "      <th>0</th>\n",
       "      <td>0</td>\n",
       "      <td>3</td>\n",
       "      <td>22.0</td>\n",
       "      <td>1</td>\n",
       "      <td>0</td>\n",
       "      <td>7.2500</td>\n",
       "      <td>False</td>\n",
       "      <td>True</td>\n",
       "      <td>False</td>\n",
       "      <td>False</td>\n",
       "      <td>True</td>\n",
       "    </tr>\n",
       "    <tr>\n",
       "      <th>1</th>\n",
       "      <td>1</td>\n",
       "      <td>1</td>\n",
       "      <td>38.0</td>\n",
       "      <td>1</td>\n",
       "      <td>0</td>\n",
       "      <td>71.2833</td>\n",
       "      <td>True</td>\n",
       "      <td>False</td>\n",
       "      <td>True</td>\n",
       "      <td>False</td>\n",
       "      <td>False</td>\n",
       "    </tr>\n",
       "    <tr>\n",
       "      <th>2</th>\n",
       "      <td>1</td>\n",
       "      <td>3</td>\n",
       "      <td>26.0</td>\n",
       "      <td>0</td>\n",
       "      <td>0</td>\n",
       "      <td>7.9250</td>\n",
       "      <td>True</td>\n",
       "      <td>False</td>\n",
       "      <td>False</td>\n",
       "      <td>False</td>\n",
       "      <td>True</td>\n",
       "    </tr>\n",
       "    <tr>\n",
       "      <th>3</th>\n",
       "      <td>1</td>\n",
       "      <td>1</td>\n",
       "      <td>35.0</td>\n",
       "      <td>1</td>\n",
       "      <td>0</td>\n",
       "      <td>53.1000</td>\n",
       "      <td>True</td>\n",
       "      <td>False</td>\n",
       "      <td>False</td>\n",
       "      <td>False</td>\n",
       "      <td>True</td>\n",
       "    </tr>\n",
       "    <tr>\n",
       "      <th>4</th>\n",
       "      <td>0</td>\n",
       "      <td>3</td>\n",
       "      <td>35.0</td>\n",
       "      <td>0</td>\n",
       "      <td>0</td>\n",
       "      <td>8.0500</td>\n",
       "      <td>False</td>\n",
       "      <td>True</td>\n",
       "      <td>False</td>\n",
       "      <td>False</td>\n",
       "      <td>True</td>\n",
       "    </tr>\n",
       "  </tbody>\n",
       "</table>\n",
       "</div>"
      ],
      "text/plain": [
       "   Survived  Pclass   Age  SibSp  Parch     Fare  Sex_female  Sex_male  \\\n",
       "0         0       3  22.0      1      0   7.2500       False      True   \n",
       "1         1       1  38.0      1      0  71.2833        True     False   \n",
       "2         1       3  26.0      0      0   7.9250        True     False   \n",
       "3         1       1  35.0      1      0  53.1000        True     False   \n",
       "4         0       3  35.0      0      0   8.0500       False      True   \n",
       "\n",
       "   Embarked_C  Embarked_Q  Embarked_S  \n",
       "0       False       False        True  \n",
       "1        True       False       False  \n",
       "2       False       False        True  \n",
       "3       False       False        True  \n",
       "4       False       False        True  "
      ]
     },
     "execution_count": 37,
     "metadata": {},
     "output_type": "execute_result"
    }
   ],
   "source": [
    "#show new dataframe\n",
    "df_train_dummied.head()\n"
   ]
  },
  {
   "cell_type": "code",
   "execution_count": 38,
   "id": "5a4e2d4d",
   "metadata": {},
   "outputs": [
    {
     "data": {
      "text/plain": [
       "<Axes: >"
      ]
     },
     "execution_count": 38,
     "metadata": {},
     "output_type": "execute_result"
    },
    {
     "data": {
      "image/png": "[encoded data removed]",
      "text/plain": [
       "<Figure size 600x400 with 2 Axes>"
      ]
     },
     "metadata": {},
     "output_type": "display_data"
    }
   ],
   "source": [
    "#use heatmap to see whether variables are correlated\n",
    "plt.figure(figsize = (6,4))\n",
    "sns.heatmap(df_train_dummied.corr())"
   ]
  },
  {
   "cell_type": "code",
   "execution_count": 39,
   "id": "4c5d0d3f",
   "metadata": {},
   "outputs": [],
   "source": [
    "#strong correlation between Survived and Sex_Female\n",
    "#classifier for predicting survivial, creatin train and test datasets using s and y variables\n",
    "\n",
    "used_features = [\"Pclass\", \"Age\", \"SibSp\", \"Parch\", \"Sex_female\", \"Sex_male\", \n",
    "                \"Embarked_C\", \"Embarked_Q\", \"Embarked_S\"]\n",
    "\n",
    "#ind. and dep. variable\n",
    "X = df_train_dummied[used_features].values\n",
    "y = df_train_dummied['Survived']\n"
   ]
  },
  {
   "cell_type": "code",
   "execution_count": 40,
   "id": "b6bcb51f",
   "metadata": {},
   "outputs": [],
   "source": [
    "#splitting dataset as train and test\n",
    "X_train, X_test, y_train, y_test = train_test_split(X,y,test_size=0.3,random_state=1)"
   ]
  },
  {
   "cell_type": "code",
   "execution_count": 41,
   "id": "e8f70519",
   "metadata": {},
   "outputs": [
    {
     "name": "stdout",
     "output_type": "stream",
     "text": [
      "(622, 9)\n",
      "(267, 9)\n",
      "(622,)\n",
      "(267,)\n"
     ]
    }
   ],
   "source": [
    "#checking shape of datasets\n",
    "print(X_train.shape)\n",
    "print(X_test.shape)\n",
    "print(y_train.shape)\n",
    "print(y_test.shape)"
   ]
  },
  {
   "cell_type": "code",
   "execution_count": 42,
   "id": "7e3816c9",
   "metadata": {},
   "outputs": [],
   "source": [
    "#training the classifier by applyting loguistic regression to X_train and y_train\n",
    "LogReg = LogisticRegression()"
   ]
  },
  {
   "cell_type": "code",
   "execution_count": 43,
   "id": "39ea78d5",
   "metadata": {},
   "outputs": [
    {
     "data": {
      "text/html": [
       "<style>#sk-container-id-1 {color: black;}#sk-container-id-1 pre{padding: 0;}#sk-container-id-1 div.sk-toggleable {background-color: white;}#sk-container-id-1 label.sk-toggleable__label {cursor: pointer;display: block;width: 100%;margin-bottom: 0;padding: 0.3em;box-sizing: border-box;text-align: center;}#sk-container-id-1 label.sk-toggleable__label-arrow:before {content: \"▸\";float: left;margin-right: 0.25em;color: #696969;}#sk-container-id-1 label.sk-toggleable__label-arrow:hover:before {color: black;}#sk-container-id-1 div.sk-estimator:hover label.sk-toggleable__label-arrow:before {color: black;}#sk-container-id-1 div.sk-toggleable__content {max-height: 0;max-width: 0;overflow: hidden;text-align: left;background-color: #f0f8ff;}#sk-container-id-1 div.sk-toggleable__content pre {margin: 0.2em;color: black;border-radius: 0.25em;background-color: #f0f8ff;}#sk-container-id-1 input.sk-toggleable__control:checked~div.sk-toggleable__content {max-height: 200px;max-width: 100%;overflow: auto;}#sk-container-id-1 input.sk-toggleable__control:checked~label.sk-toggleable__label-arrow:before {content: \"▾\";}#sk-container-id-1 div.sk-estimator input.sk-toggleable__control:checked~label.sk-toggleable__label {background-color: #d4ebff;}#sk-container-id-1 div.sk-label input.sk-toggleable__control:checked~label.sk-toggleable__label {background-color: #d4ebff;}#sk-container-id-1 input.sk-hidden--visually {border: 0;clip: rect(1px 1px 1px 1px);clip: rect(1px, 1px, 1px, 1px);height: 1px;margin: -1px;overflow: hidden;padding: 0;position: absolute;width: 1px;}#sk-container-id-1 div.sk-estimator {font-family: monospace;background-color: #f0f8ff;border: 1px dotted black;border-radius: 0.25em;box-sizing: border-box;margin-bottom: 0.5em;}#sk-container-id-1 div.sk-estimator:hover {background-color: #d4ebff;}#sk-container-id-1 div.sk-parallel-item::after {content: \"\";width: 100%;border-bottom: 1px solid gray;flex-grow: 1;}#sk-container-id-1 div.sk-label:hover label.sk-toggleable__label {background-color: #d4ebff;}#sk-container-id-1 div.sk-serial::before {content: \"\";position: absolute;border-left: 1px solid gray;box-sizing: border-box;top: 0;bottom: 0;left: 50%;z-index: 0;}#sk-container-id-1 div.sk-serial {display: flex;flex-direction: column;align-items: center;background-color: white;padding-right: 0.2em;padding-left: 0.2em;position: relative;}#sk-container-id-1 div.sk-item {position: relative;z-index: 1;}#sk-container-id-1 div.sk-parallel {display: flex;align-items: stretch;justify-content: center;background-color: white;position: relative;}#sk-container-id-1 div.sk-item::before, #sk-container-id-1 div.sk-parallel-item::before {content: \"\";position: absolute;border-left: 1px solid gray;box-sizing: border-box;top: 0;bottom: 0;left: 50%;z-index: -1;}#sk-container-id-1 div.sk-parallel-item {display: flex;flex-direction: column;z-index: 1;position: relative;background-color: white;}#sk-container-id-1 div.sk-parallel-item:first-child::after {align-self: flex-end;width: 50%;}#sk-container-id-1 div.sk-parallel-item:last-child::after {align-self: flex-start;width: 50%;}#sk-container-id-1 div.sk-parallel-item:only-child::after {width: 0;}#sk-container-id-1 div.sk-dashed-wrapped {border: 1px dashed gray;margin: 0 0.4em 0.5em 0.4em;box-sizing: border-box;padding-bottom: 0.4em;background-color: white;}#sk-container-id-1 div.sk-label label {font-family: monospace;font-weight: bold;display: inline-block;line-height: 1.2em;}#sk-container-id-1 div.sk-label-container {text-align: center;}#sk-container-id-1 div.sk-container {/* jupyter's `normalize.less` sets `[hidden] { display: none; }` but bootstrap.min.css set `[hidden] { display: none !important; }` so we also need the `!important` here to be able to override the default hidden behavior on the sphinx rendered scikit-learn.org. See: https://github.com/scikit-learn/scikit-learn/issues/21755 */display: inline-block !important;position: relative;}#sk-container-id-1 div.sk-text-repr-fallback {display: none;}</style><div id=\"sk-container-id-1\" class=\"sk-top-container\"><div class=\"sk-text-repr-fallback\"><pre>LogisticRegression()</pre><b>In a Jupyter environment, please rerun this cell to show the HTML representation or trust the notebook. <br />On GitHub, the HTML representation is unable to render, please try loading this page with nbviewer.org.</b></div><div class=\"sk-container\" hidden><div class=\"sk-item\"><div class=\"sk-estimator sk-toggleable\"><input class=\"sk-toggleable__control sk-hidden--visually\" id=\"sk-estimator-id-1\" type=\"checkbox\" checked><label for=\"sk-estimator-id-1\" class=\"sk-toggleable__label sk-toggleable__label-arrow\">LogisticRegression</label><div class=\"sk-toggleable__content\"><pre>LogisticRegression()</pre></div></div></div></div></div>"
      ],
      "text/plain": [
       "LogisticRegression()"
      ]
     },
     "execution_count": 43,
     "metadata": {},
     "output_type": "execute_result"
    }
   ],
   "source": [
    "LogReg.fit(X_train, y_train)"
   ]
  },
  {
   "cell_type": "code",
   "execution_count": 44,
   "id": "a4019fcb",
   "metadata": {},
   "outputs": [],
   "source": [
    "#storing predictions\n",
    "y_pred = LogReg.predict(X_test)"
   ]
  },
  {
   "cell_type": "code",
   "execution_count": 45,
   "id": "cf772431",
   "metadata": {},
   "outputs": [
    {
     "data": {
      "text/plain": [
       "array([[143,  23],\n",
       "       [ 22,  79]], dtype=int64)"
      ]
     },
     "execution_count": 45,
     "metadata": {},
     "output_type": "execute_result"
    }
   ],
   "source": [
    "#confusion matrix to evaluate accuracy of classifier\n",
    "metrics.confusion_matrix(y_test, y_pred)"
   ]
  },
  {
   "cell_type": "code",
   "execution_count": 46,
   "id": "a4d22131",
   "metadata": {},
   "outputs": [
    {
     "data": {
      "text/plain": [
       "0.8314606741573034"
      ]
     },
     "execution_count": 46,
     "metadata": {},
     "output_type": "execute_result"
    }
   ],
   "source": [
    "metrics.accuracy_score(y_test, y_pred)"
   ]
  },
  {
   "cell_type": "code",
   "execution_count": 47,
   "id": "f55bea32",
   "metadata": {},
   "outputs": [
    {
     "data": {
      "text/plain": [
       "267"
      ]
     },
     "execution_count": 47,
     "metadata": {},
     "output_type": "execute_result"
    }
   ],
   "source": [
    "len(X_test)"
   ]
  },
  {
   "cell_type": "code",
   "execution_count": 49,
   "id": "9ec9a6e6",
   "metadata": {},
   "outputs": [
    {
     "name": "stdout",
     "output_type": "stream",
     "text": [
      "              precision    recall  f1-score   support\n",
      "\n",
      "           0       0.87      0.86      0.86       166\n",
      "           1       0.77      0.78      0.78       101\n",
      "\n",
      "    accuracy                           0.83       267\n",
      "   macro avg       0.82      0.82      0.82       267\n",
      "weighted avg       0.83      0.83      0.83       267\n",
      "\n"
     ]
    }
   ],
   "source": [
    "print(classification_report(y_test, y_pred))"
   ]
  },
  {
   "cell_type": "code",
   "execution_count": 50,
   "id": "000abd82",
   "metadata": {},
   "outputs": [
    {
     "data": {
      "text/plain": [
       "array([[-1.04163874, -0.03986587, -0.2422568 , -0.04063547,  1.19416522,\n",
       "        -1.19437504,  0.34963689, -0.03716318, -0.31268353]])"
      ]
     },
     "execution_count": 50,
     "metadata": {},
     "output_type": "execute_result"
    }
   ],
   "source": [
    "#the algorithm has good precision and recall scores\n",
    "LogReg.coef_"
   ]
  },
  {
   "cell_type": "code",
   "execution_count": 51,
   "id": "a69cb308",
   "metadata": {},
   "outputs": [
    {
     "data": {
      "text/plain": [
       "array([3.65508009])"
      ]
     },
     "execution_count": 51,
     "metadata": {},
     "output_type": "execute_result"
    }
   ],
   "source": [
    "LogReg.intercept_"
   ]
  },
  {
   "cell_type": "code",
   "execution_count": 52,
   "id": "0132fb09",
   "metadata": {},
   "outputs": [
    {
     "data": {
      "text/plain": [
       "Index(['Pclass', 'Age', 'SibSp', 'Parch', 'Sex_female', 'Sex_male',\n",
       "       'Embarked_C', 'Embarked_Q', 'Embarked_S'],\n",
       "      dtype='object')"
      ]
     },
     "execution_count": 52,
     "metadata": {},
     "output_type": "execute_result"
    }
   ],
   "source": [
    "df_train_dummied[used_features].columns"
   ]
  },
  {
   "cell_type": "code",
   "execution_count": 53,
   "id": "88c452db",
   "metadata": {},
   "outputs": [
    {
     "data": {
      "text/plain": [
       "array([[0.26539511, 0.73460489],\n",
       "       [0.39667099, 0.60332901],\n",
       "       [0.94737264, 0.05262736],\n",
       "       [0.25935723, 0.74064277],\n",
       "       [0.94414769, 0.05585231],\n",
       "       [0.13501096, 0.86498904],\n",
       "       [0.33313052, 0.66686948],\n",
       "       [0.51928471, 0.48071529],\n",
       "       [0.78162926, 0.21837074],\n",
       "       [0.40730129, 0.59269871],\n",
       "       [0.740078  , 0.259922  ],\n",
       "       [0.2115271 , 0.7884729 ],\n",
       "       [0.74863888, 0.25136112],\n",
       "       [0.14570759, 0.85429241],\n",
       "       [0.86458948, 0.13541052],\n",
       "       [0.36944547, 0.63055453],\n",
       "       [0.89363979, 0.10636021],\n",
       "       [0.29762155, 0.70237845],\n",
       "       [0.17631797, 0.82368203],\n",
       "       [0.39886365, 0.60113635],\n",
       "       [0.90487478, 0.09512522],\n",
       "       [0.55286479, 0.44713521],\n",
       "       [0.86434759, 0.13565241],\n",
       "       [0.93749555, 0.06250445],\n",
       "       [0.51627591, 0.48372409],\n",
       "       [0.51584257, 0.48415743],\n",
       "       [0.03914832, 0.96085168],\n",
       "       [0.86918929, 0.13081071],\n",
       "       [0.89806731, 0.10193269],\n",
       "       [0.32511022, 0.67488978],\n",
       "       [0.38820475, 0.61179525],\n",
       "       [0.40772023, 0.59227977],\n",
       "       [0.15501031, 0.84498969],\n",
       "       [0.41475793, 0.58524207],\n",
       "       [0.59113377, 0.40886623],\n",
       "       [0.16574328, 0.83425672],\n",
       "       [0.65718553, 0.34281447],\n",
       "       [0.87365568, 0.12634432],\n",
       "       [0.24344587, 0.75655413],\n",
       "       [0.5756867 , 0.4243133 ],\n",
       "       [0.43684014, 0.56315986],\n",
       "       [0.91135312, 0.08864688],\n",
       "       [0.31620078, 0.68379922],\n",
       "       [0.87365568, 0.12634432],\n",
       "       [0.79661989, 0.20338011],\n",
       "       [0.23548822, 0.76451178],\n",
       "       [0.17060276, 0.82939724],\n",
       "       [0.81608199, 0.18391801],\n",
       "       [0.06079812, 0.93920188],\n",
       "       [0.9235648 , 0.0764352 ],\n",
       "       [0.87365568, 0.12634432],\n",
       "       [0.42710657, 0.57289343],\n",
       "       [0.88390738, 0.11609262],\n",
       "       [0.0912102 , 0.9087898 ],\n",
       "       [0.74863888, 0.25136112],\n",
       "       [0.07061776, 0.92938224],\n",
       "       [0.77744343, 0.22255657],\n",
       "       [0.95152869, 0.04847131],\n",
       "       [0.70102234, 0.29897766],\n",
       "       [0.93709042, 0.06290958],\n",
       "       [0.81531134, 0.18468866],\n",
       "       [0.859854  , 0.140146  ],\n",
       "       [0.59113377, 0.40886623],\n",
       "       [0.87365568, 0.12634432],\n",
       "       [0.42710657, 0.57289343],\n",
       "       [0.23617866, 0.76382134],\n",
       "       [0.87365568, 0.12634432],\n",
       "       [0.91151977, 0.08848023],\n",
       "       [0.84474356, 0.15525644],\n",
       "       [0.0543566 , 0.9456434 ],\n",
       "       [0.8641073 , 0.1358927 ],\n",
       "       [0.05644256, 0.94355744],\n",
       "       [0.65264782, 0.34735218],\n",
       "       [0.859854  , 0.140146  ],\n",
       "       [0.31455315, 0.68544685],\n",
       "       [0.13501096, 0.86498904],\n",
       "       [0.8399902 , 0.1600098 ],\n",
       "       [0.92378065, 0.07621935],\n",
       "       [0.82552633, 0.17447367],\n",
       "       [0.83335895, 0.16664105],\n",
       "       [0.8399902 , 0.1600098 ],\n",
       "       [0.86458948, 0.13541052],\n",
       "       [0.03914832, 0.96085168],\n",
       "       [0.05984563, 0.94015437],\n",
       "       [0.7633434 , 0.2366566 ],\n",
       "       [0.61969454, 0.38030546],\n",
       "       [0.43883992, 0.56116008],\n",
       "       [0.4272949 , 0.5727051 ],\n",
       "       [0.87365568, 0.12634432],\n",
       "       [0.36944547, 0.63055453],\n",
       "       [0.8977867 , 0.1022133 ],\n",
       "       [0.32511022, 0.67488978],\n",
       "       [0.93427692, 0.06572308],\n",
       "       [0.78097463, 0.21902537],\n",
       "       [0.24653378, 0.75346622],\n",
       "       [0.83923537, 0.16076463],\n",
       "       [0.22929148, 0.77070852],\n",
       "       [0.27461062, 0.72538938],\n",
       "       [0.24653378, 0.75346622],\n",
       "       [0.21464098, 0.78535902],\n",
       "       [0.8499675 , 0.1500325 ],\n",
       "       [0.34221825, 0.65778175],\n",
       "       [0.60564576, 0.39435424],\n",
       "       [0.8549807 , 0.1450193 ],\n",
       "       [0.8549807 , 0.1450193 ],\n",
       "       [0.90598926, 0.09401074],\n",
       "       [0.13645829, 0.86354171],\n",
       "       [0.8499675 , 0.1500325 ],\n",
       "       [0.76703127, 0.23296873],\n",
       "       [0.81608199, 0.18391801],\n",
       "       [0.63900432, 0.36099568],\n",
       "       [0.74863888, 0.25136112],\n",
       "       [0.78097463, 0.21902537],\n",
       "       [0.18603569, 0.81396431],\n",
       "       [0.35990941, 0.64009059],\n",
       "       [0.08607655, 0.91392345],\n",
       "       [0.91575238, 0.08424762],\n",
       "       [0.40730129, 0.59269871],\n",
       "       [0.06403152, 0.93596848],\n",
       "       [0.79093346, 0.20906654],\n",
       "       [0.87799098, 0.12200902],\n",
       "       [0.20595416, 0.79404584],\n",
       "       [0.32511022, 0.67488978],\n",
       "       [0.50246535, 0.49753465],\n",
       "       [0.207784  , 0.792216  ],\n",
       "       [0.89216722, 0.10783278],\n",
       "       [0.44310644, 0.55689356],\n",
       "       [0.90964561, 0.09035439],\n",
       "       [0.88219758, 0.11780242],\n",
       "       [0.5775054 , 0.4224946 ],\n",
       "       [0.44704732, 0.55295268],\n",
       "       [0.60564576, 0.39435424],\n",
       "       [0.87856511, 0.12143489],\n",
       "       [0.59113377, 0.40886623],\n",
       "       [0.36944547, 0.63055453],\n",
       "       [0.07076833, 0.92923167],\n",
       "       [0.859854  , 0.140146  ],\n",
       "       [0.92633195, 0.07366805],\n",
       "       [0.87365568, 0.12634432],\n",
       "       [0.89023453, 0.10976547],\n",
       "       [0.85923513, 0.14076487],\n",
       "       [0.31521364, 0.68478636],\n",
       "       [0.9235648 , 0.0764352 ],\n",
       "       [0.38893213, 0.61106787],\n",
       "       [0.59113377, 0.40886623],\n",
       "       [0.69228698, 0.30771302],\n",
       "       [0.17962098, 0.82037902],\n",
       "       [0.10685133, 0.89314867],\n",
       "       [0.07882568, 0.92117432],\n",
       "       [0.9294913 , 0.0705087 ],\n",
       "       [0.8570215 , 0.1429785 ],\n",
       "       [0.93650103, 0.06349897],\n",
       "       [0.14222036, 0.85777964],\n",
       "       [0.8499675 , 0.1500325 ],\n",
       "       [0.37918817, 0.62081183],\n",
       "       [0.36944547, 0.63055453],\n",
       "       [0.79008454, 0.20991546],\n",
       "       [0.37194716, 0.62805284],\n",
       "       [0.89023453, 0.10976547],\n",
       "       [0.87365568, 0.12634432],\n",
       "       [0.50246535, 0.49753465],\n",
       "       [0.77046942, 0.22953058],\n",
       "       [0.5775054 , 0.4224946 ],\n",
       "       [0.86993814, 0.13006186],\n",
       "       [0.87308876, 0.12691124],\n",
       "       [0.83406962, 0.16593038],\n",
       "       [0.13681946, 0.86318054],\n",
       "       [0.05941596, 0.94058404],\n",
       "       [0.7785011 , 0.2214989 ],\n",
       "       [0.23631752, 0.76368248],\n",
       "       [0.8499675 , 0.1500325 ],\n",
       "       [0.89904483, 0.10095517],\n",
       "       [0.8399902 , 0.1600098 ],\n",
       "       [0.87365568, 0.12634432],\n",
       "       [0.67985354, 0.32014646],\n",
       "       [0.29076859, 0.70923141],\n",
       "       [0.86458948, 0.13541052],\n",
       "       [0.70931031, 0.29068969],\n",
       "       [0.87365568, 0.12634432],\n",
       "       [0.8499675 , 0.1500325 ],\n",
       "       [0.8399902 , 0.1600098 ],\n",
       "       [0.87365568, 0.12634432],\n",
       "       [0.65130672, 0.34869328],\n",
       "       [0.93241622, 0.06758378],\n",
       "       [0.32511022, 0.67488978],\n",
       "       [0.82699249, 0.17300751],\n",
       "       [0.38033459, 0.61966541],\n",
       "       [0.58146455, 0.41853545],\n",
       "       [0.22802322, 0.77197678],\n",
       "       [0.90487478, 0.09512522],\n",
       "       [0.75568521, 0.24431479],\n",
       "       [0.71704242, 0.28295758],\n",
       "       [0.86458948, 0.13541052],\n",
       "       [0.76389603, 0.23610397],\n",
       "       [0.93672848, 0.06327152],\n",
       "       [0.74767301, 0.25232699],\n",
       "       [0.89876661, 0.10123339],\n",
       "       [0.28956071, 0.71043929],\n",
       "       [0.59113377, 0.40886623],\n",
       "       [0.06560786, 0.93439214],\n",
       "       [0.70197253, 0.29802747],\n",
       "       [0.18294759, 0.81705241],\n",
       "       [0.77846188, 0.22153812],\n",
       "       [0.54732057, 0.45267943],\n",
       "       [0.04751306, 0.95248694],\n",
       "       [0.89023453, 0.10976547],\n",
       "       [0.87583957, 0.12416043],\n",
       "       [0.32276002, 0.67723998],\n",
       "       [0.81011406, 0.18988594],\n",
       "       [0.0879591 , 0.9120409 ],\n",
       "       [0.8399902 , 0.1600098 ],\n",
       "       [0.74106288, 0.25893712],\n",
       "       [0.78097463, 0.21902537],\n",
       "       [0.76703127, 0.23296873],\n",
       "       [0.3081333 , 0.6918667 ],\n",
       "       [0.19496483, 0.80503517],\n",
       "       [0.75606618, 0.24393382],\n",
       "       [0.19274354, 0.80725646],\n",
       "       [0.9146827 , 0.0853173 ],\n",
       "       [0.69216073, 0.30783927],\n",
       "       [0.86993814, 0.13006186],\n",
       "       [0.49783056, 0.50216944],\n",
       "       [0.66998268, 0.33001732],\n",
       "       [0.2214376 , 0.7785624 ],\n",
       "       [0.24330415, 0.75669585],\n",
       "       [0.86458948, 0.13541052],\n",
       "       [0.57392417, 0.42607583],\n",
       "       [0.8399902 , 0.1600098 ],\n",
       "       [0.78771739, 0.21228261],\n",
       "       [0.74878367, 0.25121633],\n",
       "       [0.38033459, 0.61966541],\n",
       "       [0.29422984, 0.70577016],\n",
       "       [0.46721286, 0.53278714],\n",
       "       [0.8399902 , 0.1600098 ],\n",
       "       [0.8977867 , 0.1022133 ],\n",
       "       [0.89053334, 0.10946666],\n",
       "       [0.87365568, 0.12634432],\n",
       "       [0.79856023, 0.20143977],\n",
       "       [0.35298871, 0.64701129],\n",
       "       [0.87799098, 0.12200902],\n",
       "       [0.29762155, 0.70237845],\n",
       "       [0.8399902 , 0.1600098 ],\n",
       "       [0.8499675 , 0.1500325 ],\n",
       "       [0.67065927, 0.32934073],\n",
       "       [0.51679935, 0.48320065],\n",
       "       [0.09862354, 0.90137646],\n",
       "       [0.13309491, 0.86690509],\n",
       "       [0.79761015, 0.20238985],\n",
       "       [0.691508  , 0.308492  ],\n",
       "       [0.87399324, 0.12600676],\n",
       "       [0.24194101, 0.75805899],\n",
       "       [0.32511022, 0.67488978],\n",
       "       [0.39771409, 0.60228591],\n",
       "       [0.94112328, 0.05887672],\n",
       "       [0.10913398, 0.89086602],\n",
       "       [0.2255308 , 0.7744692 ],\n",
       "       [0.88219758, 0.11780242],\n",
       "       [0.90487478, 0.09512522],\n",
       "       [0.03920626, 0.96079374],\n",
       "       [0.78097463, 0.21902537],\n",
       "       [0.20150639, 0.79849361],\n",
       "       [0.874046  , 0.125954  ],\n",
       "       [0.65735889, 0.34264111],\n",
       "       [0.87365568, 0.12634432],\n",
       "       [0.29422984, 0.70577016],\n",
       "       [0.8399902 , 0.1600098 ],\n",
       "       [0.91189013, 0.08810987]])"
      ]
     },
     "execution_count": 53,
     "metadata": {},
     "output_type": "execute_result"
    }
   ],
   "source": [
    "#first column = percentage of non-survival\n",
    "#second column = percentage of survival\n",
    "LogReg.predict_proba(X_test)"
   ]
  },
  {
   "cell_type": "code",
   "execution_count": null,
   "id": "3366a532",
   "metadata": {},
   "outputs": [],
   "source": []
  }
 ],
 "metadata": {
  "kernelspec": {
   "display_name": "Python 3",
   "language": "python",
   "name": "python3"
  },
  "language_info": {
   "codemirror_mode": {
    "name": "ipython",
    "version": 3
   },
   "file_extension": ".py",
   "mimetype": "text/x-python",
   "name": "python",
   "nbconvert_exporter": "python",
   "pygments_lexer": "ipython3",
   "version": "3.11.4"
  }
 },
 "nbformat": 4,
 "nbformat_minor": 5
}
